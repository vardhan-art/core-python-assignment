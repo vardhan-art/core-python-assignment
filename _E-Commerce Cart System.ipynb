{
 "cells": [
  {
   "cell_type": "code",
   "execution_count": null,
   "id": "8e1c6d64-d355-401f-9c15-1f1e332c8a8a",
   "metadata": {},
   "outputs": [],
   "source": [
    "'''Programs:\n",
    "1. E-Commerce Cart System** \n",
    "Scenario:\n",
    "You are designing the logic for an e-commerce website. Write a program to calculate the total price of items in a user's cart.\n",
    "If the cart contains more than 5 items, apply 10% discount.\n",
    "\n",
    "Requirements:\n",
    "\n",
    "- Use a function to calculate the total price.\n",
    "\n",
    "- Handle cases where the cart is empty.\n",
    "\n",
    "Input Example:\n",
    "\n",
    "cart_items = {'Laptop': 50000, 'Headphones': 2000, 'Mouse': 500, 'Keyboard': 1500}\n",
    "\n",
    "Expected Output:\n",
    "Total Price: 54000'''"
   ]
  },
  {
   "cell_type": "code",
   "execution_count": 19,
   "id": "2ad50aa2-9f8e-4034-bfa0-f0d564a2448a",
   "metadata": {},
   "outputs": [
    {
     "name": "stdout",
     "output_type": "stream",
     "text": [
      "Total Price : 54000\n"
     ]
    }
   ],
   "source": [
    "cart_items = {'Laptop': 50000, 'Headphones': 2000, 'Mouse': 500, 'Keyboard': 1500}\n",
    "\n",
    "def Total(cart_items):\n",
    "    if len(cart_items)==0:\n",
    "        print(\"sorry Empty cart\")\n",
    "    if len(cart_items)>=0:\n",
    "        total_price = sum(cart_items.values())\n",
    "        print(\"Total Price :\",total_price)\n",
    "    if len(cart_items)>=5:\n",
    "        discount=total_price*0.01\n",
    "        print(\"Discount :\",discount)\n",
    "Total(cart_items)"
   ]
  },
  {
   "cell_type": "code",
   "execution_count": null,
   "id": "bd49a831-6a53-4edd-8f3c-6c23ad2417d8",
   "metadata": {},
   "outputs": [],
   "source": []
  }
 ],
 "metadata": {
  "kernelspec": {
   "display_name": "Python 3 (ipykernel)",
   "language": "python",
   "name": "python3"
  },
  "language_info": {
   "codemirror_mode": {
    "name": "ipython",
    "version": 3
   },
   "file_extension": ".py",
   "mimetype": "text/x-python",
   "name": "python",
   "nbconvert_exporter": "python",
   "pygments_lexer": "ipython3",
   "version": "3.12.4"
  }
 },
 "nbformat": 4,
 "nbformat_minor": 5
}
