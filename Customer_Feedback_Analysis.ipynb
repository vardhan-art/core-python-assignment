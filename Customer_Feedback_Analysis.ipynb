{
 "cells": [
  {
   "cell_type": "code",
   "execution_count": null,
   "id": "667ae82b-d370-4b76-83f9-e8aaad9369c8",
   "metadata": {},
   "outputs": [],
   "source": [
    "'''Customer Feedback Analysis\n",
    "Scenario:\n",
    "\n",
    "A company collects customer feedback in the form of ratings (1-5). \n",
    "Write a program to calculate the **percentage of positive feedback** (4 or 5).\n",
    "\n",
    "Requirements:\n",
    "\n",
    "- Use a function to calculate the positive feedback percentage.\n",
    "\n",
    "- Handle cases where no ratings are available.\n",
    "\n",
    "Input Example:\n",
    "\n",
    "```python\n",
    "\n",
    "ratings = [5, 4, 3, 5, 2, 4, 1, 5]\n",
    "\n",
    "```\n",
    "Expected Output:\n",
    "``\n",
    "Positive Feedback: 62.5%'''"
   ]
  },
  {
   "cell_type": "code",
   "execution_count": 25,
   "id": "334016af-05ae-4918-a2ae-6e4f45f68d4e",
   "metadata": {},
   "outputs": [
    {
     "name": "stdin",
     "output_type": "stream",
     "text": [
      "Enter number of ratings:  8\n",
      "Enter rating 1:  5\n",
      "Enter rating 2:  4\n",
      "Enter rating 3:  3\n",
      "Enter rating 4:  5\n",
      "Enter rating 5:  2\n",
      "Enter rating 6:  4\n",
      "Enter rating 7:  1\n",
      "Enter rating 8:  5\n"
     ]
    },
    {
     "name": "stdout",
     "output_type": "stream",
     "text": [
      "\n",
      "All Ratings: [5, 4, 3, 5, 2, 4, 1, 5]\n",
      "Positive Feedback: 62.5%\n"
     ]
    }
   ],
   "source": [
    "\n",
    "def calculate_positive_feedback_percentage(ratings):\n",
    "    if not ratings:\n",
    "        print(\"No ratings available.\")\n",
    "        return\n",
    "\n",
    "    positive_count = sum(1 for r in ratings if r >= 4)\n",
    "    percentage = (positive_count / len(ratings)) * 100\n",
    "    print(f\"Positive Feedback: {percentage}%\")\n",
    "\n",
    "n = int(input(\"Enter number of ratings: \"))\n",
    "ratings = []\n",
    "\n",
    "for i in range(n):\n",
    "    rating = int(input(f\"Enter rating {i+1}: \"))\n",
    "    ratings.append(rating)\n",
    "\n",
    "print(\"\\nAll Ratings:\", ratings)\n",
    "\n",
    "calculate_positive_feedback_percentage(ratings)\n"
   ]
  },
  {
   "cell_type": "code",
   "execution_count": null,
   "id": "172564e5-06a4-4cd0-89ba-69309626ffd7",
   "metadata": {},
   "outputs": [],
   "source": []
  }
 ],
 "metadata": {
  "kernelspec": {
   "display_name": "Python 3 (ipykernel)",
   "language": "python",
   "name": "python3"
  },
  "language_info": {
   "codemirror_mode": {
    "name": "ipython",
    "version": 3
   },
   "file_extension": ".py",
   "mimetype": "text/x-python",
   "name": "python",
   "nbconvert_exporter": "python",
   "pygments_lexer": "ipython3",
   "version": "3.12.4"
  }
 },
 "nbformat": 4,
 "nbformat_minor": 5
}
