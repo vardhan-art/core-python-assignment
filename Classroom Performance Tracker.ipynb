{
 "cells": [
  {
   "cell_type": "code",
   "execution_count": null,
   "id": "05afc623-17b6-4be1-ba99-c96d54f8e359",
   "metadata": {},
   "outputs": [],
   "source": [
    "'''Classroom Performance Tracker\n",
    "Scenario:A teacher wants to track student performance.\n",
    "Write a program to calculate the **average marks** of students and identify the **top performer**.\n",
    "\n",
    "Requirements:\n",
    "\n",
    "- Use a function to calculate the average marks.\n",
    "\n",
    "- Identify the student with the highest average.\n",
    "\n",
    "- Optional: Implement a `Student` class to handle this logic.\n",
    "\n",
    "Input Example:\n",
    "\n",
    "students = {\"John\": [85, 78, 92], \"Alice\": [88, 79, 95], \"Bob\": [70, 75, 80]}\n",
    "\n",
    "Expected Output:\n",
    "\n",
    "Average Marks: {\"John\": 85, \"Alice\": 87.33, \"Bob\": 75}\n",
    "\n",
    "Top Performer: \"Alice\"'''"
   ]
  },
  {
   "cell_type": "code",
   "execution_count": 29,
   "id": "474e9b45-d387-47e0-9f14-f6c40ed70a80",
   "metadata": {},
   "outputs": [
    {
     "name": "stdout",
     "output_type": "stream",
     "text": [
      "Average Marks: {'John': 85.0, 'Alice': 87.33, 'Bob': 75.0}\n",
      "Top Performer: Alice\n"
     ]
    }
   ],
   "source": [
    "students = {\"John\": [85, 78, 92], \"Alice\": [88, 79, 95], \"Bob\": [70, 75, 80]}\n",
    "def calculate_averages(students):\n",
    "    averages = {}\n",
    "    for name, marks in students.items():\n",
    "        avg = round(sum(marks)/ 3,2)\n",
    "        averages[name] = avg\n",
    "    return averages\n",
    "\n",
    "avg= calculate_averages(students)\n",
    "print(\"Average Marks:\", avg)\n",
    "\n",
    "tp = max(avg, key=avg.get)\n",
    "print(\"Top Performer:\", tp)\n"
   ]
  },
  {
   "cell_type": "code",
   "execution_count": null,
   "id": "44eb5ff0-4a6c-4071-a914-101dc441a906",
   "metadata": {},
   "outputs": [],
   "source": []
  }
 ],
 "metadata": {
  "kernelspec": {
   "display_name": "Python 3 (ipykernel)",
   "language": "python",
   "name": "python3"
  },
  "language_info": {
   "codemirror_mode": {
    "name": "ipython",
    "version": 3
   },
   "file_extension": ".py",
   "mimetype": "text/x-python",
   "name": "python",
   "nbconvert_exporter": "python",
   "pygments_lexer": "ipython3",
   "version": "3.12.4"
  }
 },
 "nbformat": 4,
 "nbformat_minor": 5
}
