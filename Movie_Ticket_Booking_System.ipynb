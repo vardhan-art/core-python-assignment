{
 "cells": [
  {
   "cell_type": "code",
   "execution_count": null,
   "id": "2d95a919-13ad-42d6-b61d-9f164e457de3",
   "metadata": {},
   "outputs": [],
   "source": [
    "'''Movie Ticket Booking System\n",
    "\n",
    "Scenario:\n",
    "A cinema hall wants to manage ticket bookings. \n",
    "Write a program to keep track of **available** and **booked seats**. Allow users to **book** or **cancel** a seat.\n",
    "\n",
    "Requirements:\n",
    "- Use functions to handle seat booking and cancellation.\n",
    "\n",
    "- Prevent booking an already booked seat.\n",
    "\n",
    "Input Example:\n",
    "total_seats = 10\n",
    "booked_seats = [2, 5, 7]\n",
    "book_seat = 3\n",
    "cancel_seat = 5\n",
    "\n",
    "Expected Output:\n",
    "Available seats: [1, 4, 6, 8, 9, 10]'''"
   ]
  },
  {
   "cell_type": "code",
   "execution_count": 3,
   "id": "84b62b48-8819-43a8-b56d-a120f0a66d8e",
   "metadata": {},
   "outputs": [
    {
     "name": "stdout",
     "output_type": "stream",
     "text": [
      "Available seats: [1, 4, 5, 6, 8, 9, 10]\n"
     ]
    }
   ],
   "source": [
    "def get_available_seats(total_seats, booked_seats):\n",
    "    return [seat for seat in range(1, total_seats + 1) if seat not in booked_seats]\n",
    "\n",
    "def book_seat(seat_number, booked_seats, total_seats):\n",
    "    if seat_number < 1 or seat_number > total_seats:\n",
    "        return f\"Seat {seat_number} is invalid.\"\n",
    "    elif seat_number in booked_seats:\n",
    "        return f\"Seat {seat_number} is already booked.\"\n",
    "    else:\n",
    "        booked_seats.append(seat_number)\n",
    "        return f\"Seat {seat_number} successfully booked.\"\n",
    "\n",
    "def cancel_seat(seat_number, booked_seats):\n",
    "    if seat_number in booked_seats:\n",
    "        booked_seats.remove(seat_number)\n",
    "        return f\"Seat {seat_number} booking cancelled.\"\n",
    "    else:\n",
    "        return f\"Seat {seat_number} is not booked, so cannot cancel.\"\n",
    "\n",
    "total_seats = 10\n",
    "booked_seats = [2, 5, 7]\n",
    "book_seat_request = 3\n",
    "cancel_seat_request = 5\n",
    "\n",
    "book_seat(book_seat_request, booked_seats, total_seats)\n",
    "\n",
    "cancel_seat(cancel_seat_request, booked_seats)\n",
    "\n",
    "available = get_available_seats(total_seats, booked_seats)\n",
    "print(\"Available seats:\", available)\n"
   ]
  },
  {
   "cell_type": "code",
   "execution_count": null,
   "id": "d5212fe4-7ccc-4a9e-80a0-217dfd9d059e",
   "metadata": {},
   "outputs": [],
   "source": []
  }
 ],
 "metadata": {
  "kernelspec": {
   "display_name": "Python 3 (ipykernel)",
   "language": "python",
   "name": "python3"
  },
  "language_info": {
   "codemirror_mode": {
    "name": "ipython",
    "version": 3
   },
   "file_extension": ".py",
   "mimetype": "text/x-python",
   "name": "python",
   "nbconvert_exporter": "python",
   "pygments_lexer": "ipython3",
   "version": "3.12.4"
  }
 },
 "nbformat": 4,
 "nbformat_minor": 5
}
