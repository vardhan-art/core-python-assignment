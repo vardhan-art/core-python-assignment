{
 "cells": [
  {
   "cell_type": "code",
   "execution_count": null,
   "id": "13c10ae2-53d3-4bef-a13f-077f0ec68084",
   "metadata": {},
   "outputs": [],
   "source": [
    "'''Hospital Patient Management\n",
    "\n",
    "Scenario:\n",
    "\n",
    "A hospital needs a system to manage patient records. \n",
    "Write a program to store patient data, including **name, age, and disease**, and allow the admin to search for patients by disease.\n",
    "\n",
    "Requirements:\n",
    "\n",
    "- Store patient records in a list of dictionaries.\n",
    "\n",
    "- Allow searching for patients based on disease.\n",
    "\n",
    "- Optional: Use a `Patient` class to manage records.\n",
    "\n",
    "Input Example:\n",
    "\n",
    "patients = [\n",
    "\n",
    "    {\"Name\": \"Alice\", \"Age\": 30, \"Disease\": \"Flu\"},\n",
    "\n",
    "    {\"Name\": \"Bob\", \"Age\": 45, \"Disease\": \"Diabetes\"},\n",
    "\n",
    "    {\"Name\": \"Charlie\", \"Age\": 35, \"Disease\": \"Flu\"}\n",
    "\n",
    "]\n",
    "search_disease = \"Flu\"\n",
    "Expected Output:\n",
    "Patients with Flu: [\"Alice\", \"Charlie\"]'''"
   ]
  },
  {
   "cell_type": "code",
   "execution_count": 19,
   "id": "b6798275-2663-4e6b-891a-93cbb0e60c61",
   "metadata": {},
   "outputs": [
    {
     "name": "stdin",
     "output_type": "stream",
     "text": [
      "Enter number of patients:  3\n"
     ]
    },
    {
     "name": "stdout",
     "output_type": "stream",
     "text": [
      "\n",
      "Entering data for patient\n"
     ]
    },
    {
     "name": "stdin",
     "output_type": "stream",
     "text": [
      "Enter Name:  Alice \n",
      "Enter Age:  30\n",
      "Enter Disease:  Flu\n"
     ]
    },
    {
     "name": "stdout",
     "output_type": "stream",
     "text": [
      "\n",
      "Entering data for patient\n"
     ]
    },
    {
     "name": "stdin",
     "output_type": "stream",
     "text": [
      "Enter Name:  Bob\n",
      "Enter Age:  45\n",
      "Enter Disease:  Diabetes\n"
     ]
    },
    {
     "name": "stdout",
     "output_type": "stream",
     "text": [
      "\n",
      "Entering data for patient\n"
     ]
    },
    {
     "name": "stdin",
     "output_type": "stream",
     "text": [
      "Enter Name:  Charlie\n",
      "Enter Age:  35\n",
      "Enter Disease:  Flu\n"
     ]
    },
    {
     "name": "stdout",
     "output_type": "stream",
     "text": [
      "\n",
      "Patient Records:\n",
      "Alice  : Age = 30 , Disease = Flu\n",
      "Bob : Age = 45 , Disease = Diabetes\n",
      "Charlie : Age = 35 , Disease = Flu\n"
     ]
    },
    {
     "name": "stdin",
     "output_type": "stream",
     "text": [
      "Enter disease to search:  Flu\n"
     ]
    },
    {
     "name": "stdout",
     "output_type": "stream",
     "text": [
      "\n",
      "Patients with Flu:\n",
      "Alice \n",
      "Charlie\n"
     ]
    }
   ],
   "source": [
    "n = int(input(\"Enter number of patients: \"))\n",
    "patients = {}\n",
    "\n",
    "for i in range(n):\n",
    "    print(f\"\\nEntering data for patient\")\n",
    "    Name = input(\"Enter Name: \")\n",
    "    age = int(input(\"Enter Age: \"))\n",
    "    disease = input(\"Enter Disease: \")\n",
    "    i=i+1\n",
    "    patients[Name] = {\"age\": age, \"disease\": disease}\n",
    "\n",
    "print(\"\\nPatient Records:\")\n",
    "for Name in patients:\n",
    "    print(Name, \":\", \"Age =\", patients[Name][\"age\"], \", Disease =\", patients[Name][\"disease\"])\n",
    "\n",
    "\n",
    "search_disease = input(\"Enter disease to search: \")\n",
    "\n",
    "print(f\"\\nPatients with {search_disease}:\")\n",
    "for name, details in patients.items():\n",
    "    if details[\"disease\"] == search_disease:\n",
    "        print(name)\n",
    "\n"
   ]
  },
  {
   "cell_type": "code",
   "execution_count": null,
   "id": "2b71006c-1ceb-42b7-ba24-cd7c88857793",
   "metadata": {},
   "outputs": [],
   "source": []
  }
 ],
 "metadata": {
  "kernelspec": {
   "display_name": "Python 3 (ipykernel)",
   "language": "python",
   "name": "python3"
  },
  "language_info": {
   "codemirror_mode": {
    "name": "ipython",
    "version": 3
   },
   "file_extension": ".py",
   "mimetype": "text/x-python",
   "name": "python",
   "nbconvert_exporter": "python",
   "pygments_lexer": "ipython3",
   "version": "3.12.4"
  }
 },
 "nbformat": 4,
 "nbformat_minor": 5
}
