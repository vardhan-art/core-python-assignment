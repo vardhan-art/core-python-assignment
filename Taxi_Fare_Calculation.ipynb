{
 "cells": [
  {
   "cell_type": "code",
   "execution_count": null,
   "id": "30612c96-dd54-4f7c-ab89-2cb58d1c2a83",
   "metadata": {},
   "outputs": [],
   "source": [
    "'''Scenario:\n",
    "A taxi service calculates fares based on the following rates: \n",
    "\n",
    "- **Base fare**: $50 \n",
    "- **Distance fare**: $10/km\n",
    "\n",
    "Write a program to calculate the total fare for multiple trips.\n",
    "Requirements:\n",
    "- Use a function to calculate fare for each trip.\n",
    "Input Example:\n",
    "\n",
    "```python\n",
    "\n",
    "trips = [5, 10, 3]  # Distances in km\n",
    "\n",
    "Expected Output:\n",
    "Trip 1: $100\n",
    "Trip 2: $150\n",
    "Trip 3: $80\n",
    "Total Fare: $330 '''"
   ]
  },
  {
   "cell_type": "code",
   "execution_count": 51,
   "id": "38e4dbbc-519f-4ed4-bf4e-3b7e609f6d4b",
   "metadata": {},
   "outputs": [
    {
     "name": "stdin",
     "output_type": "stream",
     "text": [
      "Enter number of trips:  3\n",
      "Enter distance (in KM) for trip 1:  5\n",
      "Enter distance (in KM) for trip 2:  10\n",
      "Enter distance (in KM) for trip 3:  3\n"
     ]
    },
    {
     "name": "stdout",
     "output_type": "stream",
     "text": [
      "\n",
      "All Trips: [5, 10, 3]\n",
      "Trip 1: $100\n",
      "Trip 2: $150\n",
      "Trip 3: $80\n",
      "Total Fare: $ 330\n"
     ]
    }
   ],
   "source": [
    "def farecal(trips):\n",
    "    base_fare = 50\n",
    "    rate_per_km = 10\n",
    "    total_fare = 0\n",
    "    for i, distance in enumerate(trips, start=1):\n",
    "        fare = base_fare + (distance * rate_per_km)\n",
    "        print(f\"Trip {i}: ${fare}\")\n",
    "        total_fare += fare\n",
    "    print(\"Total Fare: $\", total_fare)\n",
    "    \n",
    "n = int(input(\"Enter number of trips: \"))\n",
    "trips = []\n",
    "for i in range(n):\n",
    "    trip = int(input(f\"Enter distance (in KM) for trip {i+1}: \"))\n",
    "    trips.append(trip)\n",
    "print(\"\\nAll Trips:\", trips)\n",
    "farecal(trips)\n"
   ]
  },
  {
   "cell_type": "code",
   "execution_count": null,
   "id": "336affe6-2970-4f19-909c-852ccd2b2c25",
   "metadata": {},
   "outputs": [],
   "source": []
  }
 ],
 "metadata": {
  "kernelspec": {
   "display_name": "Python 3 (ipykernel)",
   "language": "python",
   "name": "python3"
  },
  "language_info": {
   "codemirror_mode": {
    "name": "ipython",
    "version": 3
   },
   "file_extension": ".py",
   "mimetype": "text/x-python",
   "name": "python",
   "nbconvert_exporter": "python",
   "pygments_lexer": "ipython3",
   "version": "3.12.4"
  }
 },
 "nbformat": 4,
 "nbformat_minor": 5
}
