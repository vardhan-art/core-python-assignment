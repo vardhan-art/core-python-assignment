{
 "cells": [
  {
   "cell_type": "code",
   "execution_count": null,
   "id": "ee00aa1b-d860-47da-af72-f47b86ae9704",
   "metadata": {},
   "outputs": [],
   "source": [
    "'''Restaurant Menu Management\n",
    "\n",
    "Scenario:\n",
    "You are managing a restaurant's menu.\n",
    "Write a program to update the menu by adding or removing items and allow users to check if a particular item is available.\n",
    "\n",
    "Requirements:\n",
    "\n",
    "- Use functions for adding, removing, and checking menu items.\n",
    "- Handle cases where the item to be removed does not exist.\n",
    "\n",
    "Input Example:\n",
    "initial_menu = [\"Pizza\", \"Burger\", \"Pasta\", \"Salad\"]\n",
    "add_item = \"Tacos\"\n",
    "remove_item = \"Salad\"\n",
    "check_item = \"Pizza\"\n",
    "Expected Output:\n",
    "Updated menu: [\"Pizza\", \"Burger\", \"Pasta\", \"Tacos\"]\n",
    "Availability: \"Pizza is available\"'''\n"
   ]
  },
  {
   "cell_type": "code",
   "execution_count": 67,
   "id": "40c680f0-0213-4977-a3d1-c69935da88ea",
   "metadata": {},
   "outputs": [
    {
     "name": "stdout",
     "output_type": "stream",
     "text": [
      "Updated menu: ['Pizza', 'Burger', 'Pasta', 'Tacos']\n",
      "Availability: \"Pizza is available\"\n"
     ]
    }
   ],
   "source": [
    "\n",
    "initial_menu = [\"Pizza\", \"Burger\", \"Pasta\", \"Salad\"]\n",
    "\n",
    "add_item = \"Tacos\"\n",
    "remove_item = \"Salad\"\n",
    "check_item = \"Pizza\"\n",
    "\n",
    "initial_menu.append(add_item)\n",
    "\n",
    "if remove_item in initial_menu:\n",
    "    initial_menu.remove(remove_item)\n",
    "    \n",
    "print(\"Updated menu:\", initial_menu)\n",
    "\n",
    "if check_item in initial_menu:\n",
    "    print(f'Availability: \"{check_item} is available\"')\n",
    "else:\n",
    "    print(f'Availability: \"{check_item} is not available\"')\n"
   ]
  },
  {
   "cell_type": "code",
   "execution_count": null,
   "id": "fde176ec-6e0f-42fc-ba5d-9f519f945fe6",
   "metadata": {},
   "outputs": [],
   "source": []
  }
 ],
 "metadata": {
  "kernelspec": {
   "display_name": "Python 3 (ipykernel)",
   "language": "python",
   "name": "python3"
  },
  "language_info": {
   "codemirror_mode": {
    "name": "ipython",
    "version": 3
   },
   "file_extension": ".py",
   "mimetype": "text/x-python",
   "name": "python",
   "nbconvert_exporter": "python",
   "pygments_lexer": "ipython3",
   "version": "3.12.4"
  }
 },
 "nbformat": 4,
 "nbformat_minor": 5
}
